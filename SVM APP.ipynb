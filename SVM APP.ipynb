{
 "cells": [
  {
   "cell_type": "code",
   "execution_count": 5,
   "metadata": {},
   "outputs": [],
   "source": [
    "import pandas as pd\n",
    "import numpy as np\n",
    "from sklearn.svm import SVC\n",
    "from sklearn.model_selection import train_test_split as split\n",
    "from sklearn.preprocessing import StandardScaler\n",
    "import pickle\n",
    "import scipy.sparse.linalg\n",
    "\n",
    "df=pd.read_csv(\"fetal_health.csv\")\n",
    "## conversion of the data type of target variable to int\n",
    "df[\"fetal_health\"]=df[\"fetal_health\"].astype(int)\n",
    "sc = StandardScaler()\n",
    "\n",
    "Feature=df.iloc[:,[0,1,2,3,4,5,6,7,8,9,10,11,12,13,14,15,16,17,18,19,20]]\n",
    "scaled= sc.fit_transform(Feature)\n",
    "Scaled=pd.DataFrame(scaled)\n",
    "Scaled.head(10)\n",
    "\n",
    "F1=Scaled.iloc[:,[9,7,6,17,8,18,1,3,16,0]]\n",
    "F1.columns=['percentage_of_time_with_abnormal_long_term_variability','abnormal_short_term_variability','prolongued_decelerations','histogram_mean',\n",
    "          'mean_value_of_short_term_variability','histogram_median','accelerations','uterine_contractions','histogram_mode','baseline value']\n",
    "F1.head(10)\n",
    "\n",
    "Features=F1.copy()\n",
    "\n",
    "Targets=df.iloc[:,-1]\n",
    "\n",
    "X_train, X_test, Y_train, Y_test =split(Features, Targets, test_size = 0.4, random_state = 12)\n",
    "\n",
    "M1=SVC(C=100,gamma=0.1,kernel='rbf',random_state=0)\n",
    "\n",
    "M1.fit(X_train,Y_train)\n",
    "\n",
    "pickle.dump(M1,open(\"model.pkl\",mode=\"wb\"))\n"
   ]
  },
  {
   "cell_type": "code",
   "execution_count": null,
   "metadata": {},
   "outputs": [],
   "source": []
  },
  {
   "cell_type": "code",
   "execution_count": null,
   "metadata": {},
   "outputs": [],
   "source": []
  }
 ],
 "metadata": {
  "kernelspec": {
   "display_name": "Python 3",
   "language": "python",
   "name": "python3"
  },
  "language_info": {
   "codemirror_mode": {
    "name": "ipython",
    "version": 3
   },
   "file_extension": ".py",
   "mimetype": "text/x-python",
   "name": "python",
   "nbconvert_exporter": "python",
   "pygments_lexer": "ipython3",
   "version": "3.8.3"
  }
 },
 "nbformat": 4,
 "nbformat_minor": 4
}
